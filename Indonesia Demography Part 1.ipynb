{
 "cells": [
  {
   "cell_type": "markdown",
   "metadata": {},
   "source": [
    "# Project : Indonesia Demography (Part 1: Web Scraping & Data Preparation)\n",
    "\n",
    "In this project, I will do simple data exploration about Indonesia Demography. The data for this exploration is from https://id.wikipedia.org/wiki/Demografi_Indonesia. This project will be divided into 2 parts, **Web Scraping & Data Preparation** and **Data Exploration**.\n",
    "For this part of the project, we will do these steps:\n",
    "1. Importing the needed libraries\n",
    "2. Making request to the website\n",
    "3. Retrieving the data from the table that we need\n",
    "4. Creating a dataframe with the data\n",
    "5. Preparing the DataFrame\n",
    "6. Exporting the DataFrame to CSV format"
   ]
  },
  {
   "cell_type": "markdown",
   "metadata": {},
   "source": [
    "## Import Library\n",
    "\n",
    "For this part of the project, we will need these libraries: \n",
    "1. **Pandas** to make and prepare the DataFrame\n",
    "2. **Requests** to make request to website\n",
    "3. **BeautifulSoup** to do web scraping"
   ]
  },
  {
   "cell_type": "code",
   "execution_count": 1,
   "metadata": {},
   "outputs": [],
   "source": [
    "import pandas as pd\n",
    "from requests import get\n",
    "from bs4 import BeautifulSoup"
   ]
  },
  {
   "cell_type": "markdown",
   "metadata": {},
   "source": [
    "## Make Request to Website\n",
    "\n",
    "Making request means that we will retrieve content in the form of HTML script. With this HTML script, we can retrieve the data that we need."
   ]
  },
  {
   "cell_type": "code",
   "execution_count": 2,
   "metadata": {},
   "outputs": [
    {
     "name": "stdout",
     "output_type": "stream",
     "text": [
      "\n",
      "<!DOCTYPE html>\n",
      "<html class=\"client-nojs\" lang=\"id\" dir=\"ltr\">\n",
      "<head>\n",
      "<meta charset=\"UTF-8\"/>\n",
      "<title>Demografi Indonesia - Wikipedia bahasa Indonesia, ensiklopedia bebas</title>\n",
      "<script>document.documentElement.className=\"client-js\";RLCONF={\"wgBreakFrames\":!1,\"wgSeparatorTransformTable\":[\",\\t.\",\".\\t,\"],\"wgDigitTransformTable\":[\"\",\"\"],\"wgDefaultDateFormat\":\"dmy\",\"wgMonthNames\":[\"\",\"Januari\",\"Februari\",\"Maret\",\"April\",\"Mei\",\"Juni\",\"Juli\",\"Agustus\",\"September\",\"Oktober\",\"November\",\"Desember\"],\"wgR\n"
     ]
    }
   ],
   "source": [
    "url = 'https://id.wikipedia.org/wiki/Demografi_Indonesia'\n",
    "response = get(url)\n",
    "print(response.text[:500])"
   ]
  },
  {
   "cell_type": "markdown",
   "metadata": {},
   "source": [
    "## Retrieving Data from Table\n",
    "\n",
    "Using the *Inspect Element* feature on Google Chrome, I find out that the table that I need is tagged with \"wikitable sortable\" class. So, what I do is searching for table with \"wikitable sortable\" class in the content that I retrieved before. The result is in *list* form, so I have to call the value. \n",
    "\n",
    "After I find the table, I need to retrieve the data. Also using the *Inspect Element* feature, I find out that all the data that I need is tagged with `<td>` tag. So, I search for all the `td` tag in the table."
   ]
  },
  {
   "cell_type": "code",
   "execution_count": 3,
   "metadata": {},
   "outputs": [],
   "source": [
    "html_soup = BeautifulSoup(response.text, 'html.parser')\n",
    "table_in_page = html_soup.find_all('table', class_ = 'wikitable sortable')\n",
    "demografi_table = table_in_page[0]\n",
    "\n",
    "demografi_soup = BeautifulSoup(str(demografi_table), 'html.parser')\n",
    "data_in_table = demografi_soup.find_all('td')"
   ]
  },
  {
   "cell_type": "markdown",
   "metadata": {},
   "source": [
    "## Create DataFrame\n",
    "\n",
    "When I retrieved the data, I got a list of data in order from top left of table, going to the right direction. So, I need to make a list of lists, which the inside lists contain 9 data (corresponding to total of table's columns).\n",
    "\n",
    "To do this, I need to make 2 empty lists, one for storing the data to a tidy list of lists and one is temporary list for storing exactly 9 data.\n",
    "\n",
    "After I completed my list of lists, I create the DataFrame and add the column names."
   ]
  },
  {
   "cell_type": "code",
   "execution_count": 4,
   "metadata": {},
   "outputs": [
    {
     "data": {
      "text/html": [
       "<div>\n",
       "<style scoped>\n",
       "    .dataframe tbody tr th:only-of-type {\n",
       "        vertical-align: middle;\n",
       "    }\n",
       "\n",
       "    .dataframe tbody tr th {\n",
       "        vertical-align: top;\n",
       "    }\n",
       "\n",
       "    .dataframe thead th {\n",
       "        text-align: right;\n",
       "    }\n",
       "</style>\n",
       "<table border=\"1\" class=\"dataframe\">\n",
       "  <thead>\n",
       "    <tr style=\"text-align: right;\">\n",
       "      <th></th>\n",
       "      <th>kode_bps</th>\n",
       "      <th>lambang</th>\n",
       "      <th>nama</th>\n",
       "      <th>kode_iso</th>\n",
       "      <th>ibu_kota</th>\n",
       "      <th>populasi</th>\n",
       "      <th>luas_km</th>\n",
       "      <th>status_khusus</th>\n",
       "      <th>pulau</th>\n",
       "    </tr>\n",
       "  </thead>\n",
       "  <tbody>\n",
       "    <tr>\n",
       "      <th>0</th>\n",
       "      <td>11</td>\n",
       "      <td></td>\n",
       "      <td>Aceh</td>\n",
       "      <td>ID-AC</td>\n",
       "      <td>Banda Aceh</td>\n",
       "      <td>4.494.410</td>\n",
       "      <td>56.500,51</td>\n",
       "      <td>Daerah khusus</td>\n",
       "      <td>Sumatra\\n</td>\n",
       "    </tr>\n",
       "    <tr>\n",
       "      <th>1</th>\n",
       "      <td>12</td>\n",
       "      <td></td>\n",
       "      <td>Sumatra Utara</td>\n",
       "      <td>ID-SU</td>\n",
       "      <td>Medan</td>\n",
       "      <td>12.982.204</td>\n",
       "      <td>72.427,81</td>\n",
       "      <td></td>\n",
       "      <td>Sumatra\\n</td>\n",
       "    </tr>\n",
       "    <tr>\n",
       "      <th>2</th>\n",
       "      <td>13</td>\n",
       "      <td></td>\n",
       "      <td>Sumatra Barat</td>\n",
       "      <td>ID-SB</td>\n",
       "      <td>Padang</td>\n",
       "      <td>4.846.909</td>\n",
       "      <td>42.224,65</td>\n",
       "      <td></td>\n",
       "      <td>Sumatra\\n</td>\n",
       "    </tr>\n",
       "    <tr>\n",
       "      <th>3</th>\n",
       "      <td>14</td>\n",
       "      <td></td>\n",
       "      <td>Riau</td>\n",
       "      <td>ID-RI</td>\n",
       "      <td>Pekanbaru</td>\n",
       "      <td>5.538.367</td>\n",
       "      <td>87.844,23</td>\n",
       "      <td></td>\n",
       "      <td>Sumatra\\n</td>\n",
       "    </tr>\n",
       "    <tr>\n",
       "      <th>4</th>\n",
       "      <td>15</td>\n",
       "      <td></td>\n",
       "      <td>Jambi</td>\n",
       "      <td>ID-JA</td>\n",
       "      <td>Jambi</td>\n",
       "      <td>3.092.265</td>\n",
       "      <td>45.348,49</td>\n",
       "      <td></td>\n",
       "      <td>Sumatra\\n</td>\n",
       "    </tr>\n",
       "  </tbody>\n",
       "</table>\n",
       "</div>"
      ],
      "text/plain": [
       "  kode_bps lambang           nama kode_iso    ibu_kota    populasi    luas_km  \\\n",
       "0       11                   Aceh    ID-AC  Banda Aceh   4.494.410  56.500,51   \n",
       "1       12          Sumatra Utara    ID-SU       Medan  12.982.204  72.427,81   \n",
       "2       13          Sumatra Barat    ID-SB      Padang   4.846.909  42.224,65   \n",
       "3       14                   Riau    ID-RI   Pekanbaru   5.538.367  87.844,23   \n",
       "4       15                  Jambi    ID-JA       Jambi   3.092.265  45.348,49   \n",
       "\n",
       "   status_khusus      pulau  \n",
       "0  Daerah khusus  Sumatra\\n  \n",
       "1                 Sumatra\\n  \n",
       "2                 Sumatra\\n  \n",
       "3                 Sumatra\\n  \n",
       "4                 Sumatra\\n  "
      ]
     },
     "execution_count": 4,
     "metadata": {},
     "output_type": "execute_result"
    }
   ],
   "source": [
    "demografi_list = []\n",
    "temp_list = []\n",
    "\n",
    "counter = 0\n",
    "for data in data_in_table:\n",
    "    if counter < 9:\n",
    "        temp_list.append(data.text)\n",
    "        counter = counter + 1\n",
    "    else:\n",
    "        demografi_list.append(temp_list)\n",
    "        temp_list = []\n",
    "        temp_list.append(data.text)\n",
    "        counter = 1\n",
    "demografi_list.append(temp_list)\n",
    "\n",
    "column_names = ['kode_bps', 'lambang', 'nama', 'kode_iso', 'ibu_kota', 'populasi', 'luas_km', 'status_khusus', 'pulau']\n",
    "demografi_df = pd.DataFrame(demografi_list,columns=column_names)\n",
    "\n",
    "demografi_df.head()"
   ]
  },
  {
   "cell_type": "markdown",
   "metadata": {},
   "source": [
    "The DataFrame looks good, but actually I only need these columns only:\n",
    "1. kode_bps\n",
    "2. nama\n",
    "3. ibu_kota\n",
    "4. populasi\n",
    "5. luas_km\n",
    "6. pulau\n",
    "\n",
    "So, I will drop these columns:\n",
    "\n",
    "1. lambang\n",
    "2. kode_iso\n",
    "3. status_khusus"
   ]
  },
  {
   "cell_type": "code",
   "execution_count": 5,
   "metadata": {},
   "outputs": [
    {
     "data": {
      "text/html": [
       "<div>\n",
       "<style scoped>\n",
       "    .dataframe tbody tr th:only-of-type {\n",
       "        vertical-align: middle;\n",
       "    }\n",
       "\n",
       "    .dataframe tbody tr th {\n",
       "        vertical-align: top;\n",
       "    }\n",
       "\n",
       "    .dataframe thead th {\n",
       "        text-align: right;\n",
       "    }\n",
       "</style>\n",
       "<table border=\"1\" class=\"dataframe\">\n",
       "  <thead>\n",
       "    <tr style=\"text-align: right;\">\n",
       "      <th></th>\n",
       "      <th>kode_bps</th>\n",
       "      <th>nama</th>\n",
       "      <th>ibu_kota</th>\n",
       "      <th>populasi</th>\n",
       "      <th>luas_km</th>\n",
       "      <th>pulau</th>\n",
       "    </tr>\n",
       "  </thead>\n",
       "  <tbody>\n",
       "    <tr>\n",
       "      <th>0</th>\n",
       "      <td>11</td>\n",
       "      <td>Aceh</td>\n",
       "      <td>Banda Aceh</td>\n",
       "      <td>4.494.410</td>\n",
       "      <td>56.500,51</td>\n",
       "      <td>Sumatra\\n</td>\n",
       "    </tr>\n",
       "    <tr>\n",
       "      <th>1</th>\n",
       "      <td>12</td>\n",
       "      <td>Sumatra Utara</td>\n",
       "      <td>Medan</td>\n",
       "      <td>12.982.204</td>\n",
       "      <td>72.427,81</td>\n",
       "      <td>Sumatra\\n</td>\n",
       "    </tr>\n",
       "    <tr>\n",
       "      <th>2</th>\n",
       "      <td>13</td>\n",
       "      <td>Sumatra Barat</td>\n",
       "      <td>Padang</td>\n",
       "      <td>4.846.909</td>\n",
       "      <td>42.224,65</td>\n",
       "      <td>Sumatra\\n</td>\n",
       "    </tr>\n",
       "    <tr>\n",
       "      <th>3</th>\n",
       "      <td>14</td>\n",
       "      <td>Riau</td>\n",
       "      <td>Pekanbaru</td>\n",
       "      <td>5.538.367</td>\n",
       "      <td>87.844,23</td>\n",
       "      <td>Sumatra\\n</td>\n",
       "    </tr>\n",
       "    <tr>\n",
       "      <th>4</th>\n",
       "      <td>15</td>\n",
       "      <td>Jambi</td>\n",
       "      <td>Jambi</td>\n",
       "      <td>3.092.265</td>\n",
       "      <td>45.348,49</td>\n",
       "      <td>Sumatra\\n</td>\n",
       "    </tr>\n",
       "  </tbody>\n",
       "</table>\n",
       "</div>"
      ],
      "text/plain": [
       "  kode_bps           nama    ibu_kota    populasi    luas_km      pulau\n",
       "0       11           Aceh  Banda Aceh   4.494.410  56.500,51  Sumatra\\n\n",
       "1       12  Sumatra Utara       Medan  12.982.204  72.427,81  Sumatra\\n\n",
       "2       13  Sumatra Barat      Padang   4.846.909  42.224,65  Sumatra\\n\n",
       "3       14           Riau   Pekanbaru   5.538.367  87.844,23  Sumatra\\n\n",
       "4       15          Jambi       Jambi   3.092.265  45.348,49  Sumatra\\n"
      ]
     },
     "execution_count": 5,
     "metadata": {},
     "output_type": "execute_result"
    }
   ],
   "source": [
    "demografi_df = demografi_df.drop(columns=['lambang', 'kode_iso', 'status_khusus'])\n",
    "\n",
    "demografi_df.head()"
   ]
  },
  {
   "cell_type": "markdown",
   "metadata": {},
   "source": [
    "## Data Manipulation\n",
    "\n",
    "The column `populasi` and `luas_km` now have *object* as the type. But, actually, they need to be in float type, so that we can explore it better. To convert them to float type, first we need to remove the thousand separator and change the decimal separator from `,` to `.`.\n",
    "\n",
    "Also, there's `\\n` at the end of `pulau` value, which is unnecessary and need to be removed."
   ]
  },
  {
   "cell_type": "code",
   "execution_count": 6,
   "metadata": {},
   "outputs": [
    {
     "data": {
      "text/plain": [
       "kode_bps     object\n",
       "nama         object\n",
       "ibu_kota     object\n",
       "populasi    float64\n",
       "luas_km     float64\n",
       "pulau        object\n",
       "dtype: object"
      ]
     },
     "execution_count": 6,
     "metadata": {},
     "output_type": "execute_result"
    }
   ],
   "source": [
    "demografi_df = demografi_df.replace(to_replace='\\.', value='', regex=True)\n",
    "demografi_df = demografi_df.replace(to_replace=',', value='.', regex=True)\n",
    "demografi_df = demografi_df.replace(to_replace='\\n', value='', regex=True)\n",
    "\n",
    "demografi_df[['populasi', 'luas_km']] = demografi_df[['populasi', 'luas_km']].astype(float)\n",
    "\n",
    "demografi_df.dtypes"
   ]
  },
  {
   "cell_type": "markdown",
   "metadata": {},
   "source": [
    "## Export Data to CSV\n",
    "\n",
    "Lastly, we can export the data to CSV format so we can use it later for the part 2."
   ]
  },
  {
   "cell_type": "code",
   "execution_count": 7,
   "metadata": {},
   "outputs": [],
   "source": [
    "demografi_df.to_csv('demografi_indonesia.csv', index=False)"
   ]
  }
 ],
 "metadata": {
  "kernelspec": {
   "display_name": "Python 3",
   "language": "python",
   "name": "python3"
  },
  "language_info": {
   "codemirror_mode": {
    "name": "ipython",
    "version": 3
   },
   "file_extension": ".py",
   "mimetype": "text/x-python",
   "name": "python",
   "nbconvert_exporter": "python",
   "pygments_lexer": "ipython3",
   "version": "3.7.6"
  }
 },
 "nbformat": 4,
 "nbformat_minor": 4
}
