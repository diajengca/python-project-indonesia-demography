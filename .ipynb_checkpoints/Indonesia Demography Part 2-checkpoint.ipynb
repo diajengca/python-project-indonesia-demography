{
 "cells": [
  {
   "cell_type": "markdown",
   "metadata": {},
   "source": [
    "# Project : Indonesia Demography (Part 2: Data Exploration)\n",
    "\n",
    "In the part 1 of the project, I have done web scraping and simple data preparation. With CSV file that I got from part 1, I will do simple data exploration."
   ]
  },
  {
   "cell_type": "markdown",
   "metadata": {},
   "source": [
    "## Import Library\n",
    "For this part of project, I need to import these libraries:\n",
    "1. **NumPy** for statistical exploration\n",
    "2. **Pandas** for dealing with dataframe\n",
    "3. **Matplotlib** and Seaborn for visualization\n"
   ]
  },
  {
   "cell_type": "code",
   "execution_count": 1,
   "metadata": {},
   "outputs": [],
   "source": [
    "import numpy as np\n",
    "import pandas as pd\n",
    "import matplotlib as plt\n",
    "import seaborn as sns"
   ]
  },
  {
   "cell_type": "markdown",
   "metadata": {},
   "source": [
    "## Read CSV File\n",
    "\n",
    "Data that I'm using is an CSV file that I got from part 1 of the project. I need to read that CSV file and save it in a DataFrame"
   ]
  },
  {
   "cell_type": "code",
   "execution_count": 2,
   "metadata": {},
   "outputs": [
    {
     "data": {
      "text/html": [
       "<div>\n",
       "<style scoped>\n",
       "    .dataframe tbody tr th:only-of-type {\n",
       "        vertical-align: middle;\n",
       "    }\n",
       "\n",
       "    .dataframe tbody tr th {\n",
       "        vertical-align: top;\n",
       "    }\n",
       "\n",
       "    .dataframe thead th {\n",
       "        text-align: right;\n",
       "    }\n",
       "</style>\n",
       "<table border=\"1\" class=\"dataframe\">\n",
       "  <thead>\n",
       "    <tr style=\"text-align: right;\">\n",
       "      <th></th>\n",
       "      <th>kode_bps</th>\n",
       "      <th>nama</th>\n",
       "      <th>ibu_kota</th>\n",
       "      <th>populasi</th>\n",
       "      <th>luas_km</th>\n",
       "      <th>pulau</th>\n",
       "    </tr>\n",
       "  </thead>\n",
       "  <tbody>\n",
       "    <tr>\n",
       "      <th>0</th>\n",
       "      <td>11</td>\n",
       "      <td>Aceh</td>\n",
       "      <td>Banda Aceh</td>\n",
       "      <td>4494410.0</td>\n",
       "      <td>56500.51</td>\n",
       "      <td>Sumatra</td>\n",
       "    </tr>\n",
       "    <tr>\n",
       "      <th>1</th>\n",
       "      <td>12</td>\n",
       "      <td>Sumatra Utara</td>\n",
       "      <td>Medan</td>\n",
       "      <td>12982204.0</td>\n",
       "      <td>72427.81</td>\n",
       "      <td>Sumatra</td>\n",
       "    </tr>\n",
       "    <tr>\n",
       "      <th>2</th>\n",
       "      <td>13</td>\n",
       "      <td>Sumatra Barat</td>\n",
       "      <td>Padang</td>\n",
       "      <td>4846909.0</td>\n",
       "      <td>42224.65</td>\n",
       "      <td>Sumatra</td>\n",
       "    </tr>\n",
       "    <tr>\n",
       "      <th>3</th>\n",
       "      <td>14</td>\n",
       "      <td>Riau</td>\n",
       "      <td>Pekanbaru</td>\n",
       "      <td>5538367.0</td>\n",
       "      <td>87844.23</td>\n",
       "      <td>Sumatra</td>\n",
       "    </tr>\n",
       "    <tr>\n",
       "      <th>4</th>\n",
       "      <td>15</td>\n",
       "      <td>Jambi</td>\n",
       "      <td>Jambi</td>\n",
       "      <td>3092265.0</td>\n",
       "      <td>45348.49</td>\n",
       "      <td>Sumatra</td>\n",
       "    </tr>\n",
       "  </tbody>\n",
       "</table>\n",
       "</div>"
      ],
      "text/plain": [
       "   kode_bps           nama    ibu_kota    populasi   luas_km    pulau\n",
       "0        11           Aceh  Banda Aceh   4494410.0  56500.51  Sumatra\n",
       "1        12  Sumatra Utara       Medan  12982204.0  72427.81  Sumatra\n",
       "2        13  Sumatra Barat      Padang   4846909.0  42224.65  Sumatra\n",
       "3        14           Riau   Pekanbaru   5538367.0  87844.23  Sumatra\n",
       "4        15          Jambi       Jambi   3092265.0  45348.49  Sumatra"
      ]
     },
     "execution_count": 2,
     "metadata": {},
     "output_type": "execute_result"
    }
   ],
   "source": [
    "demografi_df = pd.read_csv('demografi_indonesia.csv')\n",
    "\n",
    "demografi_df.head()"
   ]
  },
  {
   "cell_type": "markdown",
   "metadata": {},
   "source": [
    "## Exploration\n",
    "\n",
    "Now that I have dataframe of Indonesia demography, I will start exploring the data."
   ]
  },
  {
   "cell_type": "markdown",
   "metadata": {},
   "source": [
    "\n",
    "### How much population in Indonesia?"
   ]
  },
  {
   "cell_type": "code",
   "execution_count": 3,
   "metadata": {},
   "outputs": [
    {
     "name": "stdout",
     "output_type": "stream",
     "text": [
      "Indonesia population is 238379489 people\n"
     ]
    }
   ],
   "source": [
    "population = demografi_df['populasi'].sum()\n",
    "\n",
    "print('Indonesia population is ' + str(int(population)) + ' people')"
   ]
  },
  {
   "cell_type": "markdown",
   "metadata": {},
   "source": [
    "### How wide is Indonesia land area?"
   ]
  },
  {
   "cell_type": "code",
   "execution_count": 4,
   "metadata": {},
   "outputs": [
    {
     "name": "stdout",
     "output_type": "stream",
     "text": [
      "Indonesia land area is 1931573.4 km2 wide\n"
     ]
    }
   ],
   "source": [
    "land_area = demografi_df['luas_km'].sum()\n",
    "\n",
    "print('Indonesia land area is ' + str(land_area) + ' km2 wide')"
   ]
  },
  {
   "cell_type": "markdown",
   "metadata": {},
   "source": [
    "### How many islands are there in Indonesia? What are the names?"
   ]
  },
  {
   "cell_type": "code",
   "execution_count": 33,
   "metadata": {},
   "outputs": [
    {
     "name": "stdout",
     "output_type": "stream",
     "text": [
      "There are 7 islands in Indonesia\n",
      "Name of islands in Indonesia :\n",
      "['Jawa' 'Kalimantan' 'Maluku' 'Nusa Tenggara' 'Papua' 'Sulawesi' 'Sumatra']\n"
     ]
    }
   ],
   "source": [
    "islands = demografi_df['pulau'].sort_values(ascending=True).unique()\n",
    "islands_count = len(islands)\n",
    "\n",
    "print('There are ' + str(islands_count) + ' islands in Indonesia')\n",
    "print('Name of islands in Indonesia :')\n",
    "print(islands)"
   ]
  },
  {
   "cell_type": "markdown",
   "metadata": {},
   "source": [
    "### How much population and land area on each island in Indonesia?"
   ]
  },
  {
   "cell_type": "code",
   "execution_count": 30,
   "metadata": {},
   "outputs": [
    {
     "data": {
      "text/html": [
       "<div>\n",
       "<style scoped>\n",
       "    .dataframe tbody tr th:only-of-type {\n",
       "        vertical-align: middle;\n",
       "    }\n",
       "\n",
       "    .dataframe tbody tr th {\n",
       "        vertical-align: top;\n",
       "    }\n",
       "\n",
       "    .dataframe thead th {\n",
       "        text-align: right;\n",
       "    }\n",
       "</style>\n",
       "<table border=\"1\" class=\"dataframe\">\n",
       "  <thead>\n",
       "    <tr style=\"text-align: right;\">\n",
       "      <th></th>\n",
       "      <th>populasi</th>\n",
       "      <th>luas_km</th>\n",
       "    </tr>\n",
       "    <tr>\n",
       "      <th>pulau</th>\n",
       "      <th></th>\n",
       "      <th></th>\n",
       "    </tr>\n",
       "  </thead>\n",
       "  <tbody>\n",
       "    <tr>\n",
       "      <th>Jawa</th>\n",
       "      <td>136610590.0</td>\n",
       "      <td>129306.48</td>\n",
       "    </tr>\n",
       "    <tr>\n",
       "      <th>Kalimantan</th>\n",
       "      <td>14525994.0</td>\n",
       "      <td>578625.91</td>\n",
       "    </tr>\n",
       "    <tr>\n",
       "      <th>Maluku</th>\n",
       "      <td>2571593.0</td>\n",
       "      <td>87310.41</td>\n",
       "    </tr>\n",
       "    <tr>\n",
       "      <th>Nusa Tenggara</th>\n",
       "      <td>13074796.0</td>\n",
       "      <td>71296.03</td>\n",
       "    </tr>\n",
       "    <tr>\n",
       "      <th>Papua</th>\n",
       "      <td>3593803.0</td>\n",
       "      <td>424500.80</td>\n",
       "    </tr>\n",
       "    <tr>\n",
       "      <th>Sulawesi</th>\n",
       "      <td>17371782.0</td>\n",
       "      <td>193847.09</td>\n",
       "    </tr>\n",
       "    <tr>\n",
       "      <th>Sumatra</th>\n",
       "      <td>50630931.0</td>\n",
       "      <td>446686.68</td>\n",
       "    </tr>\n",
       "  </tbody>\n",
       "</table>\n",
       "</div>"
      ],
      "text/plain": [
       "                  populasi    luas_km\n",
       "pulau                                \n",
       "Jawa           136610590.0  129306.48\n",
       "Kalimantan      14525994.0  578625.91\n",
       "Maluku           2571593.0   87310.41\n",
       "Nusa Tenggara   13074796.0   71296.03\n",
       "Papua            3593803.0  424500.80\n",
       "Sulawesi        17371782.0  193847.09\n",
       "Sumatra         50630931.0  446686.68"
      ]
     },
     "execution_count": 30,
     "metadata": {},
     "output_type": "execute_result"
    }
   ],
   "source": [
    "group_by_island = demografi_df.drop(columns=['kode_bps']).groupby(['pulau']).sum().sort_values(by='pulau')\n",
    "group_by_island"
   ]
  },
  {
   "cell_type": "markdown",
   "metadata": {},
   "source": [
    "**Visualization of Indonesia population by islands**"
   ]
  },
  {
   "cell_type": "code",
   "execution_count": 52,
   "metadata": {},
   "outputs": [
    {
     "data": {
      "text/plain": [
       "<Figure size 432x288 with 0 Axes>"
      ]
     },
     "metadata": {},
     "output_type": "display_data"
    },
    {
     "data": {
      "image/png": "[encoded data removed]",
      "text/plain": [
       "<Figure size 1152x432 with 1 Axes>"
      ]
     },
     "metadata": {},
     "output_type": "display_data"
    }
   ],
   "source": [
    "import matplotlib.pyplot as plt\n",
    "import seaborn as sns\n",
    "\n",
    "sns.set()\n",
    "sns.set_style(\"whitegrid\")\n",
    "\n",
    "plt.figure(figsize=(16, 6))\n",
    "\n",
    "sns.barplot(islands, group_by_island['populasi'], palette=\"Paired\")\n",
    "\n",
    "plt.show()"
   ]
  },
  {
   "cell_type": "markdown",
   "metadata": {},
   "source": [
    "From this visualization, we can learn that Jawa island has highest population. Even when compared to other island, Jawa has much larger population.\n",
    "\n",
    "Maluku island has the lowest number of population, followed by Papua island with slightly higher number of population than Maluku island."
   ]
  },
  {
   "cell_type": "markdown",
   "metadata": {},
   "source": [
    "**Visualization of Indonesia land area by islands**"
   ]
  },
  {
   "cell_type": "code",
   "execution_count": 54,
   "metadata": {},
   "outputs": [
    {
     "data": {
      "image/png": "[encoded data removed]",
      "text/plain": [
       "<Figure size 1152x432 with 1 Axes>"
      ]
     },
     "metadata": {},
     "output_type": "display_data"
    }
   ],
   "source": [
    "plt.figure(figsize=(16, 6))\n",
    "\n",
    "sns.barplot(islands, group_by_island['luas_km'], palette=\"Paired\")\n",
    "\n",
    "plt.show()"
   ]
  },
  {
   "cell_type": "markdown",
   "metadata": {},
   "source": [
    "Although Jawa island has highest number of population, but it has relatively small land area. The largest island is Kalimantan, followed by Sumatra and Papua. The smallest island is Nusa Tenggara."
   ]
  },
  {
   "cell_type": "markdown",
   "metadata": {},
   "source": [
    "**Visualization of Indonesia population density by islands**"
   ]
  },
  {
   "cell_type": "code",
   "execution_count": 55,
   "metadata": {},
   "outputs": [
    {
     "data": {
      "image/png": "[encoded data removed]",
      "text/plain": [
       "<Figure size 1152x432 with 1 Axes>"
      ]
     },
     "metadata": {},
     "output_type": "display_data"
    }
   ],
   "source": [
    "density = group_by_island['populasi'] / group_by_island['luas_km']\n",
    "\n",
    "plt.figure(figsize=(16, 6))\n",
    "\n",
    "sns.barplot(islands, density, palette=\"Paired\")\n",
    "\n",
    "plt.show()"
   ]
  },
  {
   "cell_type": "markdown",
   "metadata": {},
   "source": [
    "With its very high number of population and relatively small island, Jawa island has highest number in popultion density, even so much higher than other island's population density. Papua island, with their very low number of population but relatively large island, has lowest number of population density."
   ]
  },
  {
   "cell_type": "code",
   "execution_count": 53,
   "metadata": {},
   "outputs": [
    {
     "data": {
      "image/png": "[encoded data removed]",
      "text/plain": [
       "<Figure size 864x720 with 1 Axes>"
      ]
     },
     "metadata": {},
     "output_type": "display_data"
    }
   ],
   "source": [
    "plt.figure(figsize=(12, 10))\n",
    "\n",
    "sns.scatterplot(demografi_df['luas_km'], demografi_df['populasi'], hue=demografi_df['pulau'], s=400, palette=\"Paired\")\n",
    "\n",
    "plt.show()"
   ]
  },
  {
   "cell_type": "markdown",
   "metadata": {},
   "source": [
    "From above scatter plot, we can learn that provinces in **Jawa** island have relatively small land area with varying number of population. Provinces in **Kalimantan** and **Papua** have small number of population with varying number of land area. Provinces in **Sumatra**, **Sulawesi**, **Maluku** and **Nusa Tenggara** island have relatively small number of population and small land area too. "
   ]
  },
  {
   "cell_type": "code",
   "execution_count": null,
   "metadata": {},
   "outputs": [],
   "source": []
  }
 ],
 "metadata": {
  "kernelspec": {
   "display_name": "Python 3",
   "language": "python",
   "name": "python3"
  },
  "language_info": {
   "codemirror_mode": {
    "name": "ipython",
    "version": 3
   },
   "file_extension": ".py",
   "mimetype": "text/x-python",
   "name": "python",
   "nbconvert_exporter": "python",
   "pygments_lexer": "ipython3",
   "version": "3.7.6"
  }
 },
 "nbformat": 4,
 "nbformat_minor": 4
}
